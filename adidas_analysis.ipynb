{
 "cells": [
  {
   "cell_type": "markdown",
   "metadata": {},
   "source": [
    "# 👟 Adidas Shoe Data Analysis\n",
    "\n",
    "This notebook provides a comprehensive analysis of the Adidas shoe dataset."
   ]
  },
  {
   "cell_type": "code",
   "execution_count": null,
   "metadata": {},
   "source": [
    "# Import required libraries\n",
    "import pandas as pd\n",
    "import numpy as np\n",
    "import plotly.express as px\n",
    "import plotly.graph_objects as go\n",
    "import seaborn as sns\n",
    "import matplotlib.pyplot as plt\n",
    "\n",
    "# Set plotting style\n",
    "plt.style.use('seaborn')\n",
    "sns.set_palette('husl')"
   ]
  },
  {
   "cell_type": "markdown",
   "metadata": {},
   "source": [
    "## 1. Data Loading and Initial Exploration"
   ]
  },
  {
   "cell_type": "code",
   "execution_count": null,
   "metadata": {},
   "source": [
    "# Load the datasets\n",
    "shoes_dim = pd.read_csv('shoes_dim.csv')\n",
    "shoes_fact = pd.read_csv('shoes_fact.csv')\n",
    "country_dim = pd.read_csv('country_dim.csv')\n",
    "\n",
    "# Display basic information about the datasets\n",
    "print(\"\\nShoes Dimension Table Info:\")\n",
    "shoes_dim.info()\n",
    "\n",
    "print(\"\\nShoes Fact Table Info:\")\n",
    "shoes_fact.info()\n",
    "\n",
    "print(\"\\nCountry Dimension Table Info:\")\n",
    "country_dim.info()"
   ]
  },
  {
   "cell_type": "markdown",
   "metadata": {},
   "source": [
    "## 2. Data Quality Analysis"
   ]
  },
  {
   "cell_type": "code",
   "execution_count": null,
   "metadata": {},
   "source": [
    "def analyze_data_quality(df, title):\n",
    "    print(f\"\\n{title} Data Quality Analysis\")\n",
    "    print(\"-\" * 50)\n",
    "    \n",
    "    # Missing values\n",
    "    missing = df.isnull().sum()\n",
    "    missing_pct = (missing / len(df)) * 100\n",
    "    \n",
    "    quality_df = pd.DataFrame({\n",
    "        'Missing Values': missing,\n",
    "        'Missing Percentage': missing_pct.round(2)\n",
    "    })\n",
    "    \n",
    "    print(\"\\nMissing Values Analysis:\")\n",
    "    display(quality_df[quality_df['Missing Values'] > 0])\n",
    "    \n",
    "    # Duplicates\n",
    "    duplicates = df.duplicated().sum()\n",
    "    print(f\"\\nDuplicate Records: {duplicates}\")\n",
    "\n",
    "# Analyze each dataset\n",
    "analyze_data_quality(shoes_dim, \"Shoes Dimension\")\n",
    "analyze_data_quality(shoes_fact, \"Shoes Fact\")\n",
    "analyze_data_quality(country_dim, \"Country Dimension\")"
   ]
  },
  {
   "cell_type": "markdown",
   "metadata": {},
   "source": [
    "## 3. Product Analysis"
   ]
  },
  {
   "cell_type": "code",
   "execution_count": null,
   "metadata": {},
   "source": [
    "# Gender Distribution\n",
    "plt.figure(figsize=(10, 6))\n",
    "shoes_dim['gender'].value_counts().plot(kind='bar')\n",
    "plt.title('Gender Distribution')\n",
    "plt.xlabel('Gender')\n",
    "plt.ylabel('Count')\n",
    "plt.xticks(rotation=0)\n",
    "plt.show()\n",
    "\n",
    "# Usage Categories\n",
    "plt.figure(figsize=(12, 6))\n",
    "shoes_dim['best_for_wear'].value_counts().plot(kind='bar')\n",
    "plt.title('Usage Categories Distribution')\n",
    "plt.xlabel('Category')\n",
    "plt.ylabel('Count')\n",
    "plt.xticks(rotation=45)\n",
    "plt.show()"
   ]
  },
  {
   "cell_type": "markdown",
   "metadata": {},
   "source": [
    "## 4. Color Analysis"
   ]
  },
  {
   "cell_type": "code",
   "execution_count": null,
   "metadata": {},
   "source": [
    "# Analyze color patterns\n",
    "def analyze_colors(df):\n",
    "    colors_df = pd.DataFrame({\n",
    "        'Dominant': df['dominant_color'].value_counts(),\n",
    "        'Sub1': df['sub_color1'].value_counts(),\n",
    "        'Sub2': df['sub_color2'].value_counts()\n",
    "    })\n",
    "    \n",
    "    # Plot top 10 colors for each category\n",
    "    fig, axes = plt.subplots(1, 3, figsize=(20, 6))\n",
    "    \n",
    "    colors_df['Dominant'].head(10).plot(kind='bar', ax=axes[0], title='Top Dominant Colors')\n",
    "    colors_df['Sub1'].head(10).plot(kind='bar', ax=axes[1], title='Top Sub-Color 1')\n",
    "    colors_df['Sub2'].head(10).plot(kind='bar', ax=axes[2], title='Top Sub-Color 2')\n",
    "    \n",
    "    for ax in axes:\n",
    "        ax.tick_params(axis='x', rotation=45)\n",
    "    \n",
    "    plt.tight_layout()\n",
    "    plt.show()\n",
    "\n",
    "analyze_colors(shoes_dim)"
   ]
  },
  {
   "cell_type": "markdown",
   "metadata": {},
   "source": [
    "## 5. Geographic Analysis"
   ]
  },
  {
   "cell_type": "code",
   "execution_count": null,
   "metadata": {},
   "source": [
    "# Analyze geographic distribution\n",
    "print(\"Currency Distribution:\")\n",
    "display(country_dim['currency'].value_counts())\n",
    "\n",
    "print(\"\\nShoe Metric Distribution:\")\n",
    "display(country_dim['shoe_metric'].value_counts())\n",
    "\n",
    "# Create a summary table\n",
    "geo_summary = pd.DataFrame({\n",
    "    'Currency Count': country_dim['currency'].value_counts(),\n",
    "    'Metric System': country_dim['shoe_metric'].value_counts()\n",
    "})\n",
    "\n",
    "display(geo_summary)"
   ]
  },
  {
   "cell_type": "markdown",
   "metadata": {},
   "source": [
    "## 6. Cross Analysis"
   ]
  },
  {
   "cell_type": "code",
   "execution_count": null,
   "metadata": {},
   "source": [
    "# Gender vs Usage Category\n",
    "gender_usage = pd.crosstab(shoes_dim['gender'], shoes_dim['best_for_wear'])\n",
    "\n",
    "plt.figure(figsize=(12, 6))\n",
    "gender_usage.plot(kind='bar', stacked=True)\n",
    "plt.title('Gender Distribution Across Usage Categories')\n",
    "plt.xlabel('Gender')\n",
    "plt.ylabel('Count')\n",
    "plt.legend(title='Usage Category', bbox_to_anchor=(1.05, 1))\n",
    "plt.tight_layout()\n",
    "plt.show()\n",
    "\n",
    "# Color preferences by gender\n",
    "color_gender = pd.crosstab(shoes_dim['dominant_color'], shoes_dim['gender'])\n",
    "color_gender_pct = color_gender.div(color_gender.sum(axis=0), axis=1) * 100\n",
    "\n",
    "plt.figure(figsize=(12, 6))\n",
    "color_gender_pct.head(10).plot(kind='bar')\n",
    "plt.title('Color Preferences by Gender (Top 10 Colors)')\n",
    "plt.xlabel('Color')\n",
    "plt.ylabel('Percentage')\n",
    "plt.legend(title='Gender')\n",
    "plt.xticks(rotation=45)\n",
    "plt.tight_layout()\n",
    "plt.show()"
   ]
  },
  {
   "cell_type": "markdown",
   "metadata": {},
   "source": [
    "## 7. Key Insights"
   ]
  },
  {
   "cell_type": "code",
   "execution_count": null,
   "metadata": {},
   "source": [
    "# Generate key insights\n",
    "print(\"Key Insights:\")\n",
    "print(\"-\" * 50)\n",
    "\n",
    "# Total products\n",
    "print(f\"Total unique shoes: {len(shoes_dim)}\")\n",
    "\n",
    "# Gender distribution\n",
    "gender_dist = shoes_dim['gender'].value_counts()\n",
    "print(\"\\nGender Distribution:\")\n",
    "for gender, count in gender_dist.items():\n",
    "    print(f\"{gender}: {count} ({(count/len(shoes_dim)*100):.1f}%)\")\n",
    "\n",
    "# Most common categories\n",
    "print(\"\\nTop 5 Usage Categories:\")\n",
    "display(shoes_dim['best_for_wear'].value_counts().head())\n",
    "\n",
    "# Most common colors\n",
    "print(\"\\nTop 5 Dominant Colors:\")\n",
    "display(shoes_dim['dominant_color'].value_counts().head())"
   ]
  }
 ],
 "metadata": {
  "kernelspec": {
   "display_name": "Python 3",
   "language": "python",
   "name": "python3"
  },
  "language_info": {
   "codemirror_mode": {
    "name": "ipython",
    "version": 3
   },
   "file_extension": ".py",
   "mimetype": "text/x-python",
   "name": "python",
   "nbconvert_exporter": "python",
   "pygments_lexer": "ipython3",
   "version": "3.8.0"
  }
 },
 "nbformat": 4,
 "nbformat_minor": 4
}
